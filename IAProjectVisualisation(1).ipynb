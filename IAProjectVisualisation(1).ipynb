{
 "cells": [
  {
   "attachments": {},
   "cell_type": "markdown",
   "metadata": {},
   "source": [
    "Visualisation Données Projet IA "
   ]
  },
  {
   "cell_type": "code",
   "execution_count": null,
   "metadata": {},
   "outputs": [],
   "source": [
    "from sklearn.ensemble import RandomForestClassifier\n",
    "from sklearn.linear_model import RidgeClassifier\n",
    "from sklearn.model_selection import train_test_split\n",
    "from category_encoders import OrdinalEncoder\n",
    "from ydata_profiling import ProfileReport\n",
    "import pandas as pd\n",
    "import seaborn as sns\n",
    "import plotly.express as px\n",
    "%matplotlib inline\n",
    "import matplotlib.pyplot as plt"
   ]
  },
  {
   "cell_type": "code",
   "execution_count": null,
   "metadata": {},
   "outputs": [],
   "source": [
    "databrute = pd.read_csv(\"C:\\\\Users\\\\marion.g\\\\Desktop\\\\SCHOOL\\\\IA\\\\train.csv\")"
   ]
  },
  {
   "cell_type": "code",
   "execution_count": null,
   "metadata": {},
   "outputs": [],
   "source": [
    "databrute.info()"
   ]
  },
  {
   "cell_type": "code",
   "execution_count": null,
   "metadata": {},
   "outputs": [],
   "source": [
    "#profile = ProfileReport(databrute, title= \"Profile Report datatitanic\")\n",
    "#profile.to_notebook_iframe()"
   ]
  },
  {
   "cell_type": "code",
   "execution_count": null,
   "metadata": {},
   "outputs": [],
   "source": [
    "#sns.lmplot(x=\"X\", y=\"Y\" , data=databrute)\n",
    "#plt.show()\n"
   ]
  },
  {
   "cell_type": "code",
   "execution_count": null,
   "metadata": {},
   "outputs": [],
   "source": [
    "data2 = databrute.drop(databrute[databrute[\"Y\"]==90].index)"
   ]
  },
  {
   "cell_type": "code",
   "execution_count": null,
   "metadata": {},
   "outputs": [],
   "source": [
    "#sns.lmplot(x=\"X\", y=\"Y\" , data=data2)\n",
    "#plt.show()"
   ]
  },
  {
   "cell_type": "code",
   "execution_count": null,
   "metadata": {},
   "outputs": [],
   "source": [
    "data2[\"Heure\"]=pd.to_datetime(data2[\"Dates\"]).dt.hour\n",
    "data2[\"Day\"]=pd.to_datetime(data2[\"Dates\"]).dt.day_of_year\n",
    "data2[\"Year\"]=pd.to_datetime(data2[\"Dates\"]).dt.year"
   ]
  },
  {
   "cell_type": "code",
   "execution_count": null,
   "metadata": {},
   "outputs": [],
   "source": [
    "data2[\"HARM\"]=0.5 / (1/data2['X'] + 1/data2['Y'])"
   ]
  },
  {
   "cell_type": "code",
   "execution_count": null,
   "metadata": {},
   "outputs": [],
   "source": [
    "data3 = data2[[\"Heure\",\"Day\",\"Year\",\"Category\",\"DayOfWeek\",\"PdDistrict\", \"X\",\"Y\",\"HARM\"]]"
   ]
  },
  {
   "cell_type": "code",
   "execution_count": null,
   "metadata": {},
   "outputs": [],
   "source": [
    "#sns.lmplot(x=\"X\", y=\"Y\",hue=\"Heure\", data=data3)\n",
    "#plt.show()"
   ]
  },
  {
   "cell_type": "code",
   "execution_count": null,
   "metadata": {},
   "outputs": [],
   "source": [
    "dup = data3.duplicated()\n",
    "data4 = data3.drop_duplicates()\n",
    "data4 =data4.drop(data4[data4[\"Year\"]==2015].index)"
   ]
  },
  {
   "cell_type": "code",
   "execution_count": null,
   "metadata": {},
   "outputs": [],
   "source": [
    "feat_to_encode = [col for col in data4.columns if data4[col].dtype == \"object\"]\n",
    "encoder = OrdinalEncoder(cols=feat_to_encode).fit(data4)\n",
    "new_data = encoder.transform(data4)\n",
    "dataencode = new_data"
   ]
  },
  {
   "cell_type": "code",
   "execution_count": null,
   "metadata": {},
   "outputs": [],
   "source": [
    "#profile = ProfileReport(dataencode, title= \"Profile Report datatitanic\")\n",
    "#profile.to_notebook_iframe()"
   ]
  },
  {
   "cell_type": "code",
   "execution_count": null,
   "metadata": {},
   "outputs": [],
   "source": [
    "#sns.lmplot(x=\"X\", y=\"Y\",hue=\"Category\", data=data4)\n",
    "#plt.show()"
   ]
  },
  {
   "cell_type": "code",
   "execution_count": null,
   "metadata": {},
   "outputs": [],
   "source": [
    "#sns.histplot(data=data4, x=\"Category\", hue=\"PdDistrict\")"
   ]
  },
  {
   "cell_type": "code",
   "execution_count": null,
   "metadata": {},
   "outputs": [],
   "source": [
    "catfre = data4.groupby([\"Category\"])[\"Category\"].count()\n",
    "catfre.sort_values()"
   ]
  },
  {
   "cell_type": "code",
   "execution_count": null,
   "metadata": {},
   "outputs": [],
   "source": [
    "catfre = data4.groupby([\"PdDistrict\"])[\"PdDistrict\"].count()\n",
    "catfre.sort_values()"
   ]
  },
  {
   "cell_type": "code",
   "execution_count": null,
   "metadata": {},
   "outputs": [],
   "source": [
    "catfre = data4.groupby([\"Heure\"])[\"Heure\"].count()\n",
    "catfre.sort_values()"
   ]
  },
  {
   "cell_type": "code",
   "execution_count": null,
   "metadata": {},
   "outputs": [],
   "source": [
    "sns.histplot(data=data4, x=\"PdDistrict\", hue=\"PdDistrict\")"
   ]
  },
  {
   "cell_type": "code",
   "execution_count": null,
   "metadata": {},
   "outputs": [],
   "source": [
    "#px.histogram(data_frame=data4, x=\"Heure\", color=\"PdDistrict\")"
   ]
  },
  {
   "cell_type": "code",
   "execution_count": null,
   "metadata": {},
   "outputs": [],
   "source": [
    "#px.histogram(data_frame=data4, x=\"Heure\", color=\"Category\")"
   ]
  },
  {
   "cell_type": "code",
   "execution_count": null,
   "metadata": {},
   "outputs": [],
   "source": []
  },
  {
   "cell_type": "code",
   "execution_count": null,
   "metadata": {},
   "outputs": [],
   "source": [
    "limitedcat = data4\n",
    "limitedcat.loc[limitedcat['Category']==\"PORNOGRAPHY/OBSCENE MAT\", 'Category'] = \"SEX CRIME\"\n",
    "limitedcat.loc[limitedcat['Category']==\"SEX OFFENSES NON FORCIBLE\", 'Category'] = \"SEX CRIME\"\n",
    "limitedcat.loc[limitedcat['Category']==\"PROSTITUTION\", 'Category'] = \"SEX CRIME\"\n",
    "limitedcat.loc[limitedcat['Category']==\"SEX OFFENSES FORCIBLE\", 'Category'] = \"SEX CRIME\"\n",
    "\n",
    "limitedcat.loc[limitedcat['Category']==\"LIQUOR LAWS\", 'Category'] = \"INFLUENCE\"\n",
    "limitedcat.loc[limitedcat['Category']==\"DRIVING UNDER THE INFLUENCE\", 'Category'] = \"INFLUENCE\"\n",
    "limitedcat.loc[limitedcat['Category']==\"DRUNKENNESS\", 'Category'] = \"INFLUENCE\"\n",
    "limitedcat.loc[limitedcat['Category']==\"DRUG/NARCOTIC\", 'Category'] = \"INFLUENCE\"\n",
    "\n",
    "limitedcat.loc[limitedcat['Category']==\"FRAUD\", 'Category'] = \"MONEY RELATED\"\n",
    "limitedcat.loc[limitedcat['Category']==\"FORGERY/COUNTERFEITING\", 'Category'] = \"MONEY RELATED\"\n",
    "limitedcat.loc[limitedcat['Category']==\"EMBEZZLEMENT\", 'Category'] = \"MONEY RELATED\"\n",
    "limitedcat.loc[limitedcat['Category']==\"BAD CHECKS\", 'Category'] = \"MONEY RELATED\"\n",
    "limitedcat.loc[limitedcat['Category']==\"BRIBERY\", 'Category'] = \"MONEY RELATED\"\n",
    "limitedcat.loc[limitedcat['Category']==\"EXTORTION\", 'Category'] = \"MONEY RELATED\"\n",
    "limitedcat.loc[limitedcat['Category']==\"GAMBLING\", 'Category'] = \"MONEY RELATED\"\n",
    "\n",
    "limitedcat.loc[limitedcat['Category']==\"KIDNAPPING\", 'Category'] = \"ASSAULT\"\n",
    "limitedcat.loc[limitedcat['Category']==\"RUNAWAY\", 'Category'] = \"ASSAULT\"\n",
    "limitedcat.loc[limitedcat['Category']==\"ASSAULT\", 'Category'] = \"ASSAULT\"\n",
    "limitedcat.loc[limitedcat['Category']==\"FAMILY OFFENSES\", 'Category'] = \"ASSAULT\"\n",
    "limitedcat.loc[limitedcat['Category']==\"WEAPON LAWS\", 'Category'] = \"ASSAULT\"\n",
    "limitedcat.loc[limitedcat['Category']==\"MISSING PERSON\", 'Category'] = \"ASSAULT\"\n",
    "\n",
    "limitedcat.loc[limitedcat['Category']==\"SECONDARY CODES\", 'Category'] = \"DISORDERLY CONDUCT\"\n",
    "limitedcat.loc[limitedcat['Category']==\"SUSPICIOUS OCC\", 'Category'] = \"DISORDERLY CONDUCT\"\n",
    "limitedcat.loc[limitedcat['Category']==\"RECOVERED VEHICLE\", 'Category'] = \"DISORDERLY CONDUCT\"\n",
    "\n",
    "\n",
    "limitedcat.loc[limitedcat['Category']==\"STOLEN PROPERTY\", 'Category'] = \"VANDALISM\"\n",
    "limitedcat.loc[limitedcat['Category']==\"TRESPASS\", 'Category'] = \"VANDALISM\"\n",
    "limitedcat.loc[limitedcat['Category']==\"ROBBERY\", 'Category'] = \"VANDALISM\"\n",
    "limitedcat.loc[limitedcat['Category']==\"BURGLARY\", 'Category'] = \"VANDALISM\"\n",
    "limitedcat.loc[limitedcat['Category']==\"VEHICLE THEFT\", 'Category'] = \"VANDALISM\"\n",
    "limitedcat.loc[limitedcat['Category']==\"LARCENY/THEFT\", 'Category'] = \"VANDALISM\"\n",
    "limitedcat.loc[limitedcat['Category']==\"ARSON\", 'Category'] = \"VANDALISM\"\n",
    "\n",
    "\n",
    "limitedcat = limitedcat.drop(limitedcat[limitedcat[\"Category\"]==\"TREA\"].index)\n",
    "limitedcat = limitedcat.drop(limitedcat[limitedcat[\"Category\"]==\"SUICIDE\"].index)\n",
    "limitedcat = limitedcat.drop(limitedcat[limitedcat[\"Category\"]==\"LOITERING\"].index)\n",
    "limitedcat = limitedcat.drop(limitedcat[limitedcat[\"Category\"]==\"NON-CRIMINAL\"].index)"
   ]
  },
  {
   "cell_type": "code",
   "execution_count": null,
   "metadata": {},
   "outputs": [],
   "source": [
    "#px.histogram(data_frame=limitedcat, x=\"Heure\", color=\"Category\")"
   ]
  },
  {
   "cell_type": "code",
   "execution_count": null,
   "metadata": {},
   "outputs": [],
   "source": [
    "#profile = ProfileReport(limitedcat, title= \"Profile Report datatitanic\")\n",
    "#profile.to_notebook_iframe()"
   ]
  },
  {
   "cell_type": "code",
   "execution_count": null,
   "metadata": {},
   "outputs": [],
   "source": [
    "#px.histogram(data_frame=limitedcat, x=\"PdDistrict\", color=\"Category\")"
   ]
  },
  {
   "cell_type": "code",
   "execution_count": null,
   "metadata": {},
   "outputs": [],
   "source": [
    "dataMISSION = limitedcat.loc[limitedcat['PdDistrict']==\"MISSION\"]"
   ]
  },
  {
   "cell_type": "code",
   "execution_count": null,
   "metadata": {},
   "outputs": [],
   "source": [
    "\n",
    "dataNORTHEN= limitedcat.loc[limitedcat['PdDistrict']==\"MISSION\"]\n",
    "dataCENTRAL= limitedcat.loc[limitedcat['PdDistrict']==\"CENTRAL\"]\n",
    "dataSOUTHERN= limitedcat.loc[limitedcat['PdDistrict']==\"SOUTHERN\"]\n",
    "dataTENDERLOIN= limitedcat.loc[limitedcat['PdDistrict']==\"TENDERLOIN\"]\n",
    "dataINGLESIDE= limitedcat.loc[limitedcat['PdDistrict']==\"INGLESIDE\"]\n",
    "dataBAYVIEW= limitedcat.loc[limitedcat['PdDistrict']==\"BAYVIEW\"]\n",
    "datPARK= limitedcat.loc[limitedcat['PdDistrict']==\"PARK\"]\n",
    "dataRICHMOND= limitedcat.loc[limitedcat['PdDistrict']==\"RICHMOND\"]\n",
    "dataTARAVAL= limitedcat.loc[limitedcat['PdDistrict']==\"TARAVAL\"]"
   ]
  },
  {
   "cell_type": "code",
   "execution_count": null,
   "metadata": {},
   "outputs": [],
   "source": [
    "#sns.lmplot(x=\"X\", y=\"Y\",hue=\"Category\", data=dataSOUTHERN)\n",
    "#plt.show()"
   ]
  },
  {
   "cell_type": "code",
   "execution_count": null,
   "metadata": {},
   "outputs": [],
   "source": [
    "#fig = px.scatter(x=dataSOUTHERN['X'], y=dataMISSION['Y'], color=dataSOUTHERN['Category'])\n",
    "#fig"
   ]
  },
  {
   "cell_type": "code",
   "execution_count": null,
   "metadata": {},
   "outputs": [],
   "source": [
    "sns.lmplot(x=\"X\", y=\"Y\",hue=\"Category\", data=dataMISSION)\n",
    "plt.show()"
   ]
  },
  {
   "cell_type": "code",
   "execution_count": null,
   "metadata": {},
   "outputs": [],
   "source": [
    "sns.lmplot(x=\"X\", y=\"Y\",hue=\"Heure\", data=dataMISSION)\n",
    "plt.show()"
   ]
  },
  {
   "cell_type": "code",
   "execution_count": null,
   "metadata": {},
   "outputs": [],
   "source": [
    "fig = px.scatter(x=dataMISSION['X'], y=dataMISSION['Y'], color=dataMISSION['Category'])\n",
    "fig"
   ]
  },
  {
   "cell_type": "code",
   "execution_count": null,
   "metadata": {},
   "outputs": [],
   "source": [
    "dataMISSION.drop(dataMISSION[dataMISSION[\"X\"]<-122.4448].index)\n",
    "dataMISSION.drop(dataMISSION[dataMISSION[\"Y\"]<37.74597].index)\n",
    "dataMISSION.drop(dataMISSION[dataMISSION[\"Y\"]>37.78].index)\n",
    "\n",
    "len(dataMISSION)"
   ]
  },
  {
   "cell_type": "code",
   "execution_count": null,
   "metadata": {},
   "outputs": [],
   "source": [
    "#profile = ProfileReport(dataSOUTHERN, title= \"Profile Report SOUTHERN DISTRICT\")\n",
    "#profile.to_notebook_iframe()"
   ]
  },
  {
   "cell_type": "code",
   "execution_count": null,
   "metadata": {},
   "outputs": [],
   "source": [
    "dataMISSION =  dataMISSION.loc[:,dataMISSION.columns != \"PdDistrict\"]\n",
    "\n",
    "feat_to_encode = [col for col in dataMISSION.columns if dataMISSION[col].dtype == \"object\"]\n",
    "encoder = OrdinalEncoder(cols=feat_to_encode).fit(dataMISSION)\n",
    "new_data = encoder.transform(dataMISSION)\n",
    "#new_data = new_data.sample(100000)\n",
    "X = new_data.loc[:,new_data.columns != \"Category\"]\n",
    "Y = new_data[\"Category\"]\n",
    "x_train ,x_test, y_train, y_test = train_test_split(X,Y, test_size= .1, random_state= 42)\n",
    "rf = RandomForestClassifier(n_estimators=100, random_state=0, max_features=3)\n",
    "rf.fit(x_train, y_train)\n",
    "p_tr = rf.predict(x_train)\n",
    "print (\"Score Train -- \", round(rf.score(x_train, y_train) *100,2), \" %\")\n",
    "\n",
    "p_test = rf.predict(x_test)\n",
    "print (\"Score Train Test -- \", round(rf.score(x_test, y_test) *100,2), \" %\")"
   ]
  },
  {
   "cell_type": "code",
   "execution_count": null,
   "metadata": {},
   "outputs": [],
   "source": [
    "feat_to_encode = [col for col in limitedcat.columns if limitedcat[col].dtype == \"object\"]\n",
    "encoder = OrdinalEncoder(cols=feat_to_encode).fit(limitedcat)\n",
    "new_data = encoder.transform(limitedcat)\n",
    "new_data = new_data.sample(100000)\n",
    "X = new_data.loc[:,new_data.columns != \"Category\"]\n",
    "Y = new_data[\"Category\"]\n",
    "x_train ,x_test, y_train, y_test = train_test_split(X,Y, test_size= .1, random_state= 42)\n",
    "rf = RandomForestClassifier(n_estimators=100, random_state=0, max_features=3)\n",
    "rf.fit(x_train, y_train)\n",
    "p_tr = rf.predict(x_train)\n",
    "print (\"Score Train -- \", round(rf.score(x_train, y_train) *100,2), \" %\")\n",
    "\n",
    "p_test = rf.predict(x_test)\n",
    "print (\"Score Train Test -- \", round(rf.score(x_test, y_test) *100,2), \" %\")"
   ]
  },
  {
   "cell_type": "code",
   "execution_count": null,
   "metadata": {},
   "outputs": [],
   "source": [
    "from sklearn.neighbors import KNeighborsClassifier\n",
    "\n",
    "knn_model = KNeighborsClassifier(n_neighbors=9)\n",
    "knn_model.fit(x_train, y_train)\n",
    "p_tr = knn_model.predict(x_train)\n",
    "print (\"Score Train -- \", round(knn_model.score(x_train, y_train) *100,2), \" %\")\n",
    "\n",
    "p_test = knn_model.predict(x_test)\n",
    "print (\"Score Train Test -- \", round(knn_model.score(x_test, y_test) *100,2), \" %\")"
   ]
  }
 ],
 "metadata": {
  "kernelspec": {
   "display_name": "Python 3",
   "language": "python",
   "name": "python3"
  },
  "language_info": {
   "codemirror_mode": {
    "name": "ipython",
    "version": 3
   },
   "file_extension": ".py",
   "mimetype": "text/x-python",
   "name": "python",
   "nbconvert_exporter": "python",
   "pygments_lexer": "ipython3",
   "version": "3.10.11"
  },
  "orig_nbformat": 4,
  "vscode": {
   "interpreter": {
    "hash": "7601050ec216aec757c92200628378150f317c486835f4b3ffa13fe8332eaca6"
   }
  }
 },
 "nbformat": 4,
 "nbformat_minor": 2
}
